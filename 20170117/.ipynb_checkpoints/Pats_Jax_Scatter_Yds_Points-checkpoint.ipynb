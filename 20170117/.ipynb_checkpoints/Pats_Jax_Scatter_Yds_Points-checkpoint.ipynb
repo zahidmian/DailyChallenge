{
 "cells": [
  {
   "cell_type": "code",
   "execution_count": 1,
   "metadata": {
    "collapsed": true
   },
   "outputs": [],
   "source": [
    "import pandas as pd\n",
    "import datetime"
   ]
  },
  {
   "cell_type": "code",
   "execution_count": 2,
   "metadata": {
    "collapsed": true
   },
   "outputs": [],
   "source": [
    "# import results\n",
    "pats = pd.read_csv(\"../Data/pats_results_2017.csv\", encoding='utf-8')\n",
    "jax = pd.read_csv(\"../Data/jax_results_2017.csv\", encoding='utf-8')"
   ]
  },
  {
   "cell_type": "code",
   "execution_count": 3,
   "metadata": {
    "collapsed": true
   },
   "outputs": [],
   "source": [
    "# change datatype of columns\n",
    "pats[['Week', 'TotYdO', 'TotYdD', 'Opp.1']] = \\\n",
    "    pats[['Week', 'TotYdO', 'TotYdD', 'Opp.1']].apply(pd.to_numeric, errors='coerce')\n",
    "jax[['Week', 'TotYdO', 'TotYdD', 'Opp.1']] = \\\n",
    "    jax[['Week', 'TotYdO', 'TotYdD', 'Opp.1']].apply(pd.to_numeric, errors='coerce')"
   ]
  },
  {
   "cell_type": "code",
   "execution_count": 4,
   "metadata": {
    "collapsed": true
   },
   "outputs": [],
   "source": [
    "\n",
    "# get correlation for each team\n",
    "corrp = pats['TotYdD'].corr(pats['Opp.1'], method='pearson')\n",
    "corrj = jax['TotYdD'].corr(jax['Opp.1'], method='pearson')"
   ]
  },
  {
   "cell_type": "code",
   "execution_count": 8,
   "metadata": {},
   "outputs": [
    {
     "data": {
      "text/plain": [
       "<matplotlib.text.Text at 0x216afab89e8>"
      ]
     },
     "execution_count": 8,
     "metadata": {},
     "output_type": "execute_result"
    },
    {
     "data": {
      "image/png": "[encoded data removed]",
      "text/plain": [
       "<matplotlib.figure.Figure at 0x216afaf2400>"
      ]
     },
     "metadata": {},
     "output_type": "display_data"
    }
   ],
   "source": [
    "# plot each series in the same axis\n",
    "%matplotlib inline\n",
    "ax = pats.plot(title='Yards vs Points Given Up by Defense', kind='scatter', x='TotYdD', y='Opp.1', color='DarkBlue', label='Patriots')\n",
    "jax.plot(kind='scatter', x='TotYdD', y='Opp.1', color='Green', label='Jaguars', ax=ax)\n",
    "ax.set_xlabel('Yards Given Up by Defense')\n",
    "ax.set_ylabel('Opponent Score')\n",
    "ax.text(150, 30, 'correlation\\nNWE: %.2f\\nJAX: %.2f'%(corrp, corrj), style='italic',\n",
    "        bbox={'facecolor':'red', 'alpha':0.25, 'pad':5})\n"
   ]
  },
  {
   "cell_type": "code",
   "execution_count": null,
   "metadata": {
    "collapsed": true
   },
   "outputs": [],
   "source": []
  }
 ],
 "metadata": {
  "kernelspec": {
   "display_name": "Python 3",
   "language": "python",
   "name": "python3"
  },
  "language_info": {
   "codemirror_mode": {
    "name": "ipython",
    "version": 3
   },
   "file_extension": ".py",
   "mimetype": "text/x-python",
   "name": "python",
   "nbconvert_exporter": "python",
   "pygments_lexer": "ipython3",
   "version": "3.6.1"
  }
 },
 "nbformat": 4,
 "nbformat_minor": 2
}
